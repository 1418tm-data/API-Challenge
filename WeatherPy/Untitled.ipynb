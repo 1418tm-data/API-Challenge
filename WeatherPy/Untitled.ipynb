{
 "cells": [
  {
   "cell_type": "code",
   "execution_count": 9,
   "metadata": {},
   "outputs": [],
   "source": [
    "# Dependencies and Setup\n",
    "import matplotlib.pyplot as plt\n",
    "import pandas as pd\n",
    "import numpy as np\n",
    "import requests\n",
    "import time\n",
    "import json\n",
    "\n",
    "# Import API key\n",
    "from api_keys import weather_api_key\n",
    "\n",
    "# Incorporated citipy to determine city based on latitude and longitude\n",
    "from citipy import citipy\n",
    "\n",
    "# Output File (CSV)\n",
    "output_data_file = \"output_data/cities.csv\"\n",
    "\n",
    "# Range of latitudes and longitudes\n",
    "lat_range = (-90, 90)\n",
    "lng_range = (-180, 180)"
   ]
  },
  {
   "cell_type": "code",
   "execution_count": 10,
   "metadata": {},
   "outputs": [],
   "source": [
    "# List for holding lat_lngs and cities\n",
    "lat_lngs = []\n",
    "cities = []\n",
    "\n",
    "# Create a set of random lat and lng combinations\n",
    "lats = np.random.uniform(low=-90.000, high=90.000, size=1500)\n",
    "lngs = np.random.uniform(low=-180.000, high=180.000, size=1500)\n",
    "lat_lngs = zip(lats, lngs)\n",
    "\n",
    "# Identify nearest city for each lat, lng combination\n",
    "for lat_lng in lat_lngs:\n",
    "    city = citipy.nearest_city(lat_lng[0], lat_lng[1]).city_name\n",
    "    \n",
    "    # If the city is unique, then add it to a our cities list\n",
    "    if city not in cities:\n",
    "        cities.append(city)\n",
    "\n",
    "# Print the city count to confirm sufficient count\n",
    "len(cities)\n",
    "\n",
    "# create the dataframe to hold city info\n",
    "cities_df = pd.DataFrame({\"City\":cities})\n",
    "cities_df['Cloudiness'] = ''\n",
    "cities_df['Country'] = ''\n",
    "cities_df['Date'] = ''\n",
    "cities_df['Humidity'] = ''\n",
    "cities_df['Lat'] = ''\n",
    "cities_df['Lng'] = ''\n",
    "cities_df['Max Temp'] = ''\n",
    "cities_df['Wind Speed'] = ''"
   ]
  },
  {
   "cell_type": "code",
   "execution_count": 11,
   "metadata": {},
   "outputs": [
    {
     "name": "stdout",
     "output_type": "stream",
     "text": [
      "Processing Record 1 of Set 1 | lagoa.\n",
      "Processing Record 2 of Set 1 | yeppoon.\n",
      "Processing Record 3 of Set 1 | naze.\n",
      "Processing Record 4 of Set 1 | port alfred.\n",
      "Processing Record 5 of Set 1 | mahebourg.\n",
      "Processing Record 6 of Set 1 | new norfolk.\n",
      "Processing Record 7 of Set 1 | saint anthony.\n",
      "Processing Record 8 of Set 1 | albany.\n",
      "Processing Record 9 of Set 1 | punta arenas.\n",
      "Processing Record 10 of Set 1 | vaitupu.\n",
      "City not found. Skipping...\n",
      "Processing Record 11 of Set 1 | gamba.\n"
     ]
    }
   ],
   "source": [
    "count = 1\n",
    "\n",
    "# instantiate the lists to hold the data for each city\n",
    "city_list = []\n",
    "cloudiness = []\n",
    "country = []\n",
    "date = []\n",
    "humidity = []\n",
    "lat = []\n",
    "lng = []\n",
    "max_temp = []\n",
    "wind_speed = []\n",
    "\n",
    "for city in cities[:11]:    \n",
    "        # assemble url and make API request\n",
    "        print(f\"Processing Record {count} of Set 1 | {city}.\")\n",
    "        count = count + 1\n",
    "        \n",
    "        target_url = (\"http://api.openweathermap.org/data/2.5/weather?\"\n",
    "                      'appid={0}&q={1}').format(weather_api_key,city)\n",
    "        try:\n",
    "            # extract results\n",
    "            response = requests.get(target_url).json()\n",
    "            \n",
    "            # add the city info to the lists             \n",
    "            city_list.append(response['name'])\n",
    "            cloudiness.append(response['clouds']['all'])\n",
    "            country.append(response['sys']['country'])\n",
    "            date.append(response['dt'])\n",
    "            humidity.append(response['main']['humidity'])\n",
    "            lat.append(response['coord']['lat'])\n",
    "            lng.append(response['coord']['lon'])\n",
    "            max_temp.append(response['main']['temp_max'])\n",
    "            wind_speed.append(response['wind']['speed'])\n",
    "            \n",
    "        except:\n",
    "            print(\"City not found. Skipping...\")"
   ]
  },
  {
   "cell_type": "code",
   "execution_count": 12,
   "metadata": {},
   "outputs": [
    {
     "name": "stdout",
     "output_type": "stream",
     "text": [
      "We have 13 cities' responses!\n"
     ]
    }
   ],
   "source": [
    "print(f\"We have {len(response)} cities' responses!\")"
   ]
  },
  {
   "cell_type": "code",
   "execution_count": 13,
   "metadata": {},
   "outputs": [
    {
     "name": "stdout",
     "output_type": "stream",
     "text": [
      "{\n",
      "    \"base\": \"stations\",\n",
      "    \"clouds\": {\n",
      "        \"all\": 21\n",
      "    },\n",
      "    \"cod\": 200,\n",
      "    \"coord\": {\n",
      "        \"lat\": -2.65,\n",
      "        \"lon\": 10\n",
      "    },\n",
      "    \"dt\": 1610180161,\n",
      "    \"id\": 2400547,\n",
      "    \"main\": {\n",
      "        \"feels_like\": 303.93,\n",
      "        \"grnd_level\": 1008,\n",
      "        \"humidity\": 76,\n",
      "        \"pressure\": 1012,\n",
      "        \"sea_level\": 1012,\n",
      "        \"temp\": 300.21,\n",
      "        \"temp_max\": 300.21,\n",
      "        \"temp_min\": 300.21\n",
      "    },\n",
      "    \"name\": \"Gamba\",\n",
      "    \"sys\": {\n",
      "        \"country\": \"GA\",\n",
      "        \"sunrise\": 1610169542,\n",
      "        \"sunset\": 1610213689\n",
      "    },\n",
      "    \"timezone\": 3600,\n",
      "    \"visibility\": 10000,\n",
      "    \"weather\": [\n",
      "        {\n",
      "            \"description\": \"few clouds\",\n",
      "            \"icon\": \"02d\",\n",
      "            \"id\": 801,\n",
      "            \"main\": \"Clouds\"\n",
      "        }\n",
      "    ],\n",
      "    \"wind\": {\n",
      "        \"deg\": 124,\n",
      "        \"speed\": 1.75\n",
      "    }\n",
      "}\n"
     ]
    }
   ],
   "source": [
    "print(json.dumps(response, indent=4, sort_keys=True))"
   ]
  },
  {
   "cell_type": "code",
   "execution_count": null,
   "metadata": {},
   "outputs": [],
   "source": []
  }
 ],
 "metadata": {
  "kernelspec": {
   "display_name": "Python [conda env:.conda-PythonData] *",
   "language": "python",
   "name": "conda-env-.conda-PythonData-py"
  },
  "language_info": {
   "codemirror_mode": {
    "name": "ipython",
    "version": 3
   },
   "file_extension": ".py",
   "mimetype": "text/x-python",
   "name": "python",
   "nbconvert_exporter": "python",
   "pygments_lexer": "ipython3",
   "version": "3.6.10"
  }
 },
 "nbformat": 4,
 "nbformat_minor": 4
}
